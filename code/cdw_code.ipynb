{
 "cells": [
  {
   "cell_type": "code",
   "execution_count": 56,
   "id": "02fc495b",
   "metadata": {},
   "outputs": [],
   "source": [
    "import pandas as pd\n",
    "import numpy as np"
   ]
  },
  {
   "cell_type": "code",
   "execution_count": 57,
   "id": "d27bcfdb",
   "metadata": {},
   "outputs": [],
   "source": [
    "category_file = \"../data/bgg_Category.csv\"\n",
    "type_file = \"../data/bgg_GameType.csv\"\n",
    "mechanic_file = \"../data/bgg_Mechanic.csv\""
   ]
  },
  {
   "cell_type": "code",
   "execution_count": 58,
   "id": "11ac8a08",
   "metadata": {},
   "outputs": [
    {
     "data": {
      "text/html": [
       "<div>\n",
       "<style scoped>\n",
       "    .dataframe tbody tr th:only-of-type {\n",
       "        vertical-align: middle;\n",
       "    }\n",
       "\n",
       "    .dataframe tbody tr th {\n",
       "        vertical-align: top;\n",
       "    }\n",
       "\n",
       "    .dataframe thead th {\n",
       "        text-align: right;\n",
       "    }\n",
       "</style>\n",
       "<table border=\"1\" class=\"dataframe\">\n",
       "  <thead>\n",
       "    <tr style=\"text-align: right;\">\n",
       "      <th></th>\n",
       "      <th>bgg_id</th>\n",
       "      <th>name</th>\n",
       "    </tr>\n",
       "  </thead>\n",
       "  <tbody>\n",
       "    <tr>\n",
       "      <th>0</th>\n",
       "      <td>1001</td>\n",
       "      <td>Political</td>\n",
       "    </tr>\n",
       "    <tr>\n",
       "      <th>1</th>\n",
       "      <td>1002</td>\n",
       "      <td>Card Game</td>\n",
       "    </tr>\n",
       "    <tr>\n",
       "      <th>2</th>\n",
       "      <td>1008</td>\n",
       "      <td>Nautical</td>\n",
       "    </tr>\n",
       "    <tr>\n",
       "      <th>3</th>\n",
       "      <td>1009</td>\n",
       "      <td>Abstract Strategy</td>\n",
       "    </tr>\n",
       "    <tr>\n",
       "      <th>4</th>\n",
       "      <td>1010</td>\n",
       "      <td>Fantasy</td>\n",
       "    </tr>\n",
       "  </tbody>\n",
       "</table>\n",
       "</div>"
      ],
      "text/plain": [
       "   bgg_id               name\n",
       "0    1001          Political\n",
       "1    1002          Card Game\n",
       "2    1008           Nautical\n",
       "3    1009  Abstract Strategy\n",
       "4    1010            Fantasy"
      ]
     },
     "execution_count": 58,
     "metadata": {},
     "output_type": "execute_result"
    }
   ],
   "source": [
    "category_df = pd.read_csv(category_file)\n",
    "category_df.head()"
   ]
  },
  {
   "cell_type": "code",
   "execution_count": 121,
   "id": "8c7c579f",
   "metadata": {},
   "outputs": [
    {
     "data": {
      "text/html": [
       "<div>\n",
       "<style scoped>\n",
       "    .dataframe tbody tr th:only-of-type {\n",
       "        vertical-align: middle;\n",
       "    }\n",
       "\n",
       "    .dataframe tbody tr th {\n",
       "        vertical-align: top;\n",
       "    }\n",
       "\n",
       "    .dataframe thead th {\n",
       "        text-align: right;\n",
       "    }\n",
       "</style>\n",
       "<table border=\"1\" class=\"dataframe\">\n",
       "  <thead>\n",
       "    <tr style=\"text-align: right;\">\n",
       "      <th></th>\n",
       "      <th>category_id</th>\n",
       "      <th>category_name</th>\n",
       "    </tr>\n",
       "  </thead>\n",
       "  <tbody>\n",
       "    <tr>\n",
       "      <th>0</th>\n",
       "      <td>1001</td>\n",
       "      <td>Political</td>\n",
       "    </tr>\n",
       "    <tr>\n",
       "      <th>1</th>\n",
       "      <td>1002</td>\n",
       "      <td>Card Game</td>\n",
       "    </tr>\n",
       "    <tr>\n",
       "      <th>2</th>\n",
       "      <td>1008</td>\n",
       "      <td>Nautical</td>\n",
       "    </tr>\n",
       "    <tr>\n",
       "      <th>3</th>\n",
       "      <td>1009</td>\n",
       "      <td>Abstract Strategy</td>\n",
       "    </tr>\n",
       "    <tr>\n",
       "      <th>4</th>\n",
       "      <td>1010</td>\n",
       "      <td>Fantasy</td>\n",
       "    </tr>\n",
       "  </tbody>\n",
       "</table>\n",
       "</div>"
      ],
      "text/plain": [
       "   category_id      category_name\n",
       "0         1001          Political\n",
       "1         1002          Card Game\n",
       "2         1008           Nautical\n",
       "3         1009  Abstract Strategy\n",
       "4         1010            Fantasy"
      ]
     },
     "execution_count": 121,
     "metadata": {},
     "output_type": "execute_result"
    }
   ],
   "source": [
    "category_df = category_df.rename(columns={'bgg_id':'category_id','name':'category_name'})\n",
    "category_df.head()"
   ]
  },
  {
   "cell_type": "code",
   "execution_count": 59,
   "id": "0d2cbf2c",
   "metadata": {},
   "outputs": [
    {
     "data": {
      "text/html": [
       "<div>\n",
       "<style scoped>\n",
       "    .dataframe tbody tr th:only-of-type {\n",
       "        vertical-align: middle;\n",
       "    }\n",
       "\n",
       "    .dataframe tbody tr th {\n",
       "        vertical-align: top;\n",
       "    }\n",
       "\n",
       "    .dataframe thead th {\n",
       "        text-align: right;\n",
       "    }\n",
       "</style>\n",
       "<table border=\"1\" class=\"dataframe\">\n",
       "  <thead>\n",
       "    <tr style=\"text-align: right;\">\n",
       "      <th></th>\n",
       "      <th>bgg_id</th>\n",
       "      <th>name</th>\n",
       "    </tr>\n",
       "  </thead>\n",
       "  <tbody>\n",
       "    <tr>\n",
       "      <th>0</th>\n",
       "      <td>4415</td>\n",
       "      <td>Amiga</td>\n",
       "    </tr>\n",
       "    <tr>\n",
       "      <th>1</th>\n",
       "      <td>4420</td>\n",
       "      <td>Commodore 64</td>\n",
       "    </tr>\n",
       "    <tr>\n",
       "      <th>2</th>\n",
       "      <td>4664</td>\n",
       "      <td>War Game</td>\n",
       "    </tr>\n",
       "    <tr>\n",
       "      <th>3</th>\n",
       "      <td>4665</td>\n",
       "      <td>Children's Game</td>\n",
       "    </tr>\n",
       "    <tr>\n",
       "      <th>4</th>\n",
       "      <td>4666</td>\n",
       "      <td>Abstract Game</td>\n",
       "    </tr>\n",
       "    <tr>\n",
       "      <th>5</th>\n",
       "      <td>4667</td>\n",
       "      <td>Customizable</td>\n",
       "    </tr>\n",
       "    <tr>\n",
       "      <th>6</th>\n",
       "      <td>4781</td>\n",
       "      <td>Arcade</td>\n",
       "    </tr>\n",
       "    <tr>\n",
       "      <th>7</th>\n",
       "      <td>4976</td>\n",
       "      <td>Atari ST</td>\n",
       "    </tr>\n",
       "    <tr>\n",
       "      <th>8</th>\n",
       "      <td>5496</td>\n",
       "      <td>Thematic</td>\n",
       "    </tr>\n",
       "    <tr>\n",
       "      <th>9</th>\n",
       "      <td>5497</td>\n",
       "      <td>Strategy Game</td>\n",
       "    </tr>\n",
       "    <tr>\n",
       "      <th>10</th>\n",
       "      <td>5498</td>\n",
       "      <td>Party Game</td>\n",
       "    </tr>\n",
       "    <tr>\n",
       "      <th>11</th>\n",
       "      <td>5499</td>\n",
       "      <td>Family Game</td>\n",
       "    </tr>\n",
       "  </tbody>\n",
       "</table>\n",
       "</div>"
      ],
      "text/plain": [
       "    bgg_id             name\n",
       "0     4415            Amiga\n",
       "1     4420     Commodore 64\n",
       "2     4664         War Game\n",
       "3     4665  Children's Game\n",
       "4     4666    Abstract Game\n",
       "5     4667     Customizable\n",
       "6     4781           Arcade\n",
       "7     4976         Atari ST\n",
       "8     5496         Thematic\n",
       "9     5497    Strategy Game\n",
       "10    5498       Party Game\n",
       "11    5499      Family Game"
      ]
     },
     "execution_count": 59,
     "metadata": {},
     "output_type": "execute_result"
    }
   ],
   "source": [
    "type_df = pd.read_csv(type_file)\n",
    "type_df"
   ]
  },
  {
   "cell_type": "code",
   "execution_count": 122,
   "id": "05fb42cf",
   "metadata": {},
   "outputs": [
    {
     "data": {
      "text/html": [
       "<div>\n",
       "<style scoped>\n",
       "    .dataframe tbody tr th:only-of-type {\n",
       "        vertical-align: middle;\n",
       "    }\n",
       "\n",
       "    .dataframe tbody tr th {\n",
       "        vertical-align: top;\n",
       "    }\n",
       "\n",
       "    .dataframe thead th {\n",
       "        text-align: right;\n",
       "    }\n",
       "</style>\n",
       "<table border=\"1\" class=\"dataframe\">\n",
       "  <thead>\n",
       "    <tr style=\"text-align: right;\">\n",
       "      <th></th>\n",
       "      <th>type_id</th>\n",
       "      <th>type_name</th>\n",
       "    </tr>\n",
       "  </thead>\n",
       "  <tbody>\n",
       "    <tr>\n",
       "      <th>0</th>\n",
       "      <td>4415</td>\n",
       "      <td>Amiga</td>\n",
       "    </tr>\n",
       "    <tr>\n",
       "      <th>1</th>\n",
       "      <td>4420</td>\n",
       "      <td>Commodore 64</td>\n",
       "    </tr>\n",
       "    <tr>\n",
       "      <th>2</th>\n",
       "      <td>4664</td>\n",
       "      <td>War Game</td>\n",
       "    </tr>\n",
       "    <tr>\n",
       "      <th>3</th>\n",
       "      <td>4665</td>\n",
       "      <td>Children's Game</td>\n",
       "    </tr>\n",
       "    <tr>\n",
       "      <th>4</th>\n",
       "      <td>4666</td>\n",
       "      <td>Abstract Game</td>\n",
       "    </tr>\n",
       "  </tbody>\n",
       "</table>\n",
       "</div>"
      ],
      "text/plain": [
       "   type_id        type_name\n",
       "0     4415            Amiga\n",
       "1     4420     Commodore 64\n",
       "2     4664         War Game\n",
       "3     4665  Children's Game\n",
       "4     4666    Abstract Game"
      ]
     },
     "execution_count": 122,
     "metadata": {},
     "output_type": "execute_result"
    }
   ],
   "source": [
    "type_df = type_df.rename(columns={'bgg_id':'type_id','name':'type_name'})\n",
    "type_df.head()"
   ]
  },
  {
   "cell_type": "code",
   "execution_count": 60,
   "id": "6da18307",
   "metadata": {},
   "outputs": [
    {
     "data": {
      "text/html": [
       "<div>\n",
       "<style scoped>\n",
       "    .dataframe tbody tr th:only-of-type {\n",
       "        vertical-align: middle;\n",
       "    }\n",
       "\n",
       "    .dataframe tbody tr th {\n",
       "        vertical-align: top;\n",
       "    }\n",
       "\n",
       "    .dataframe thead th {\n",
       "        text-align: right;\n",
       "    }\n",
       "</style>\n",
       "<table border=\"1\" class=\"dataframe\">\n",
       "  <thead>\n",
       "    <tr style=\"text-align: right;\">\n",
       "      <th></th>\n",
       "      <th>bgg_id</th>\n",
       "      <th>name</th>\n",
       "    </tr>\n",
       "  </thead>\n",
       "  <tbody>\n",
       "    <tr>\n",
       "      <th>0</th>\n",
       "      <td>2001</td>\n",
       "      <td>Action Points</td>\n",
       "    </tr>\n",
       "    <tr>\n",
       "      <th>1</th>\n",
       "      <td>2002</td>\n",
       "      <td>Tile Placement</td>\n",
       "    </tr>\n",
       "    <tr>\n",
       "      <th>2</th>\n",
       "      <td>2003</td>\n",
       "      <td>Rock-Paper-Scissors</td>\n",
       "    </tr>\n",
       "    <tr>\n",
       "      <th>3</th>\n",
       "      <td>2004</td>\n",
       "      <td>Set Collection</td>\n",
       "    </tr>\n",
       "    <tr>\n",
       "      <th>4</th>\n",
       "      <td>2005</td>\n",
       "      <td>Stock Holding</td>\n",
       "    </tr>\n",
       "  </tbody>\n",
       "</table>\n",
       "</div>"
      ],
      "text/plain": [
       "   bgg_id                 name\n",
       "0    2001        Action Points\n",
       "1    2002       Tile Placement\n",
       "2    2003  Rock-Paper-Scissors\n",
       "3    2004       Set Collection\n",
       "4    2005        Stock Holding"
      ]
     },
     "execution_count": 60,
     "metadata": {},
     "output_type": "execute_result"
    }
   ],
   "source": [
    "mechanic_df = pd.read_csv(mechanic_file)\n",
    "mechanic_df.head()"
   ]
  },
  {
   "cell_type": "code",
   "execution_count": 123,
   "id": "baa11b19",
   "metadata": {},
   "outputs": [
    {
     "data": {
      "text/html": [
       "<div>\n",
       "<style scoped>\n",
       "    .dataframe tbody tr th:only-of-type {\n",
       "        vertical-align: middle;\n",
       "    }\n",
       "\n",
       "    .dataframe tbody tr th {\n",
       "        vertical-align: top;\n",
       "    }\n",
       "\n",
       "    .dataframe thead th {\n",
       "        text-align: right;\n",
       "    }\n",
       "</style>\n",
       "<table border=\"1\" class=\"dataframe\">\n",
       "  <thead>\n",
       "    <tr style=\"text-align: right;\">\n",
       "      <th></th>\n",
       "      <th>mechanic_id</th>\n",
       "      <th>mechanic_name</th>\n",
       "    </tr>\n",
       "  </thead>\n",
       "  <tbody>\n",
       "    <tr>\n",
       "      <th>0</th>\n",
       "      <td>2001</td>\n",
       "      <td>Action Points</td>\n",
       "    </tr>\n",
       "    <tr>\n",
       "      <th>1</th>\n",
       "      <td>2002</td>\n",
       "      <td>Tile Placement</td>\n",
       "    </tr>\n",
       "    <tr>\n",
       "      <th>2</th>\n",
       "      <td>2003</td>\n",
       "      <td>Rock-Paper-Scissors</td>\n",
       "    </tr>\n",
       "    <tr>\n",
       "      <th>3</th>\n",
       "      <td>2004</td>\n",
       "      <td>Set Collection</td>\n",
       "    </tr>\n",
       "    <tr>\n",
       "      <th>4</th>\n",
       "      <td>2005</td>\n",
       "      <td>Stock Holding</td>\n",
       "    </tr>\n",
       "  </tbody>\n",
       "</table>\n",
       "</div>"
      ],
      "text/plain": [
       "   mechanic_id        mechanic_name\n",
       "0         2001        Action Points\n",
       "1         2002       Tile Placement\n",
       "2         2003  Rock-Paper-Scissors\n",
       "3         2004       Set Collection\n",
       "4         2005        Stock Holding"
      ]
     },
     "execution_count": 123,
     "metadata": {},
     "output_type": "execute_result"
    }
   ],
   "source": [
    "mechanic_df = mechanic_df.rename(columns={'bgg_id':'mechanic_id','name':'mechanic_name'})\n",
    "mechanic_df.head()"
   ]
  },
  {
   "cell_type": "code",
   "execution_count": 124,
   "id": "974a3cfc",
   "metadata": {},
   "outputs": [],
   "source": [
    "data_file = \"../data/bgg_GameItem.csv\"\n",
    "game_item_df = pd.read_csv(data_file)"
   ]
  },
  {
   "cell_type": "code",
   "execution_count": 109,
   "id": "cd20e826",
   "metadata": {},
   "outputs": [],
   "source": [
    "cols = ['bgg_id', 'name', 'year', 'game_type', 'min_players', 'max_players', 'min_players_rec',\n",
    "       'max_players_rec', 'min_players_best', 'max_players_best', 'min_age',\n",
    "       'min_age_rec', 'min_time', 'max_time', 'category', 'mechanic',\n",
    "       'cooperative', 'rank', 'num_votes', 'avg_rating', 'complexity']\n",
    "\n",
    "game_item_df = game_item_df[cols].copy()"
   ]
  },
  {
   "cell_type": "code",
   "execution_count": 98,
   "id": "fe287b1f",
   "metadata": {},
   "outputs": [
    {
     "name": "stdout",
     "output_type": "stream",
     "text": [
      "<class 'pandas.core.frame.DataFrame'>\n",
      "RangeIndex: 102325 entries, 0 to 102324\n",
      "Data columns (total 21 columns):\n",
      " #   Column            Non-Null Count   Dtype  \n",
      "---  ------            --------------   -----  \n",
      " 0   bgg_id            102325 non-null  int64  \n",
      " 1   name              102325 non-null  object \n",
      " 2   year              93049 non-null   float64\n",
      " 3   game_type         21870 non-null   object \n",
      " 4   min_players       100466 non-null  float64\n",
      " 5   max_players       96919 non-null   float64\n",
      " 6   min_players_rec   100466 non-null  float64\n",
      " 7   max_players_rec   96919 non-null   float64\n",
      " 8   min_players_best  100466 non-null  float64\n",
      " 9   max_players_best  96919 non-null   float64\n",
      " 10  min_age           79906 non-null   float64\n",
      " 11  min_age_rec       930 non-null     float64\n",
      " 12  min_time          80922 non-null   float64\n",
      " 13  max_time          80922 non-null   float64\n",
      " 14  category          100245 non-null  object \n",
      " 15  mechanic          86813 non-null   object \n",
      " 16  cooperative       5134 non-null    float64\n",
      " 17  rank              20828 non-null   float64\n",
      " 18  num_votes         75154 non-null   float64\n",
      " 19  avg_rating        75137 non-null   float64\n",
      " 20  complexity        44300 non-null   float64\n",
      "dtypes: float64(16), int64(1), object(4)\n",
      "memory usage: 16.4+ MB\n"
     ]
    }
   ],
   "source": [
    "game_item_df.info()"
   ]
  },
  {
   "cell_type": "code",
   "execution_count": 110,
   "id": "2d24dc83",
   "metadata": {},
   "outputs": [],
   "source": [
    "game_item_df = game_item_df.dropna(subset=['game_type'], inplace=False)"
   ]
  },
  {
   "cell_type": "code",
   "execution_count": 111,
   "id": "a144f0d0",
   "metadata": {},
   "outputs": [
    {
     "name": "stdout",
     "output_type": "stream",
     "text": [
      "<class 'pandas.core.frame.DataFrame'>\n",
      "Int64Index: 21870 entries, 0 to 100274\n",
      "Data columns (total 21 columns):\n",
      " #   Column            Non-Null Count  Dtype  \n",
      "---  ------            --------------  -----  \n",
      " 0   bgg_id            21870 non-null  int64  \n",
      " 1   name              21870 non-null  object \n",
      " 2   year              20938 non-null  float64\n",
      " 3   game_type         21870 non-null  object \n",
      " 4   min_players       21637 non-null  float64\n",
      " 5   max_players       21257 non-null  float64\n",
      " 6   min_players_rec   21637 non-null  float64\n",
      " 7   max_players_rec   21257 non-null  float64\n",
      " 8   min_players_best  21637 non-null  float64\n",
      " 9   max_players_best  21257 non-null  float64\n",
      " 10  min_age           17522 non-null  float64\n",
      " 11  min_age_rec       930 non-null    float64\n",
      " 12  min_time          18972 non-null  float64\n",
      " 13  max_time          18972 non-null  float64\n",
      " 14  category          21799 non-null  object \n",
      " 15  mechanic          19604 non-null  object \n",
      " 16  cooperative       829 non-null    float64\n",
      " 17  rank              10389 non-null  float64\n",
      " 18  num_votes         19857 non-null  float64\n",
      " 19  avg_rating        19857 non-null  float64\n",
      " 20  complexity        16284 non-null  float64\n",
      "dtypes: float64(16), int64(1), object(4)\n",
      "memory usage: 3.7+ MB\n"
     ]
    }
   ],
   "source": [
    "game_item_df.info()"
   ]
  },
  {
   "cell_type": "code",
   "execution_count": 112,
   "id": "06236b9d",
   "metadata": {},
   "outputs": [],
   "source": [
    "game_item_df = game_item_df.fillna(0)"
   ]
  },
  {
   "cell_type": "code",
   "execution_count": 113,
   "id": "f1d000c4",
   "metadata": {},
   "outputs": [
    {
     "name": "stdout",
     "output_type": "stream",
     "text": [
      "<class 'pandas.core.frame.DataFrame'>\n",
      "Int64Index: 21870 entries, 0 to 100274\n",
      "Data columns (total 21 columns):\n",
      " #   Column            Non-Null Count  Dtype  \n",
      "---  ------            --------------  -----  \n",
      " 0   bgg_id            21870 non-null  int64  \n",
      " 1   name              21870 non-null  object \n",
      " 2   year              21870 non-null  float64\n",
      " 3   game_type         21870 non-null  object \n",
      " 4   min_players       21870 non-null  float64\n",
      " 5   max_players       21870 non-null  float64\n",
      " 6   min_players_rec   21870 non-null  float64\n",
      " 7   max_players_rec   21870 non-null  float64\n",
      " 8   min_players_best  21870 non-null  float64\n",
      " 9   max_players_best  21870 non-null  float64\n",
      " 10  min_age           21870 non-null  float64\n",
      " 11  min_age_rec       21870 non-null  float64\n",
      " 12  min_time          21870 non-null  float64\n",
      " 13  max_time          21870 non-null  float64\n",
      " 14  category          21870 non-null  object \n",
      " 15  mechanic          21870 non-null  object \n",
      " 16  cooperative       21870 non-null  float64\n",
      " 17  rank              21870 non-null  float64\n",
      " 18  num_votes         21870 non-null  float64\n",
      " 19  avg_rating        21870 non-null  float64\n",
      " 20  complexity        21870 non-null  float64\n",
      "dtypes: float64(16), int64(1), object(4)\n",
      "memory usage: 3.7+ MB\n"
     ]
    }
   ],
   "source": [
    "game_item_df.info()"
   ]
  },
  {
   "cell_type": "code",
   "execution_count": 114,
   "id": "a926e72b",
   "metadata": {},
   "outputs": [],
   "source": [
    "game_item_df['category'] = game_item_df['category'].str[:4]\n",
    "game_item_df['game_type'] = game_item_df['game_type'].str[:4]\n",
    "game_item_df['mechanic'] = game_item_df['mechanic'].str[:4]"
   ]
  },
  {
   "cell_type": "code",
   "execution_count": 115,
   "id": "7380f378",
   "metadata": {},
   "outputs": [],
   "source": [
    "game_item_df['category'] = game_item_df['category'].astype('float')\n",
    "game_item_df['category'] = game_item_df['category'].astype('Int64')\n",
    "game_item_df['game_type'] = game_item_df['game_type'].astype('float')\n",
    "game_item_df['game_type'] = game_item_df['game_type'].astype('Int64')\n",
    "game_item_df['mechanic'] = game_item_df['mechanic'].astype('float')\n",
    "game_item_df['mechanic'] = game_item_df['mechanic'].astype('Int64')"
   ]
  },
  {
   "cell_type": "code",
   "execution_count": 116,
   "id": "57eb1ca4",
   "metadata": {},
   "outputs": [
    {
     "name": "stdout",
     "output_type": "stream",
     "text": [
      "<class 'pandas.core.frame.DataFrame'>\n",
      "Int64Index: 21870 entries, 0 to 100274\n",
      "Data columns (total 21 columns):\n",
      " #   Column            Non-Null Count  Dtype  \n",
      "---  ------            --------------  -----  \n",
      " 0   bgg_id            21870 non-null  int64  \n",
      " 1   name              21870 non-null  object \n",
      " 2   year              21870 non-null  float64\n",
      " 3   game_type         21870 non-null  Int64  \n",
      " 4   min_players       21870 non-null  float64\n",
      " 5   max_players       21870 non-null  float64\n",
      " 6   min_players_rec   21870 non-null  float64\n",
      " 7   max_players_rec   21870 non-null  float64\n",
      " 8   min_players_best  21870 non-null  float64\n",
      " 9   max_players_best  21870 non-null  float64\n",
      " 10  min_age           21870 non-null  float64\n",
      " 11  min_age_rec       21870 non-null  float64\n",
      " 12  min_time          21870 non-null  float64\n",
      " 13  max_time          21870 non-null  float64\n",
      " 14  category          21799 non-null  Int64  \n",
      " 15  mechanic          19604 non-null  Int64  \n",
      " 16  cooperative       21870 non-null  float64\n",
      " 17  rank              21870 non-null  float64\n",
      " 18  num_votes         21870 non-null  float64\n",
      " 19  avg_rating        21870 non-null  float64\n",
      " 20  complexity        21870 non-null  float64\n",
      "dtypes: Int64(3), float64(16), int64(1), object(1)\n",
      "memory usage: 3.7+ MB\n"
     ]
    }
   ],
   "source": [
    "game_item_df.info()"
   ]
  },
  {
   "cell_type": "code",
   "execution_count": 119,
   "id": "5877724b",
   "metadata": {},
   "outputs": [],
   "source": [
    "game_item_df['cooperative'] = game_item_df['cooperative'].astype('bool') "
   ]
  },
  {
   "cell_type": "code",
   "execution_count": 120,
   "id": "0dda0ed6",
   "metadata": {},
   "outputs": [
    {
     "data": {
      "text/plain": [
       "0     False\n",
       "1     False\n",
       "2     False\n",
       "4     False\n",
       "6     False\n",
       "8     False\n",
       "9     False\n",
       "10    False\n",
       "11    False\n",
       "12    False\n",
       "13    False\n",
       "14    False\n",
       "15    False\n",
       "16    False\n",
       "17    False\n",
       "18    False\n",
       "19    False\n",
       "21    False\n",
       "22    False\n",
       "23    False\n",
       "24    False\n",
       "25    False\n",
       "26    False\n",
       "27    False\n",
       "29    False\n",
       "30    False\n",
       "31    False\n",
       "32     True\n",
       "33    False\n",
       "34    False\n",
       "37    False\n",
       "38    False\n",
       "39    False\n",
       "40    False\n",
       "41    False\n",
       "42    False\n",
       "43    False\n",
       "44    False\n",
       "45    False\n",
       "46    False\n",
       "47    False\n",
       "48    False\n",
       "49    False\n",
       "51    False\n",
       "53    False\n",
       "54    False\n",
       "55    False\n",
       "56    False\n",
       "57    False\n",
       "58    False\n",
       "Name: cooperative, dtype: bool"
      ]
     },
     "execution_count": 120,
     "metadata": {},
     "output_type": "execute_result"
    }
   ],
   "source": [
    "game_item_df['cooperative'].head(50)"
   ]
  },
  {
   "cell_type": "code",
   "execution_count": null,
   "id": "02f9ccde",
   "metadata": {},
   "outputs": [],
   "source": []
  }
 ],
 "metadata": {
  "kernelspec": {
   "display_name": "OythonData",
   "language": "python",
   "name": "oythondata"
  },
  "language_info": {
   "codemirror_mode": {
    "name": "ipython",
    "version": 3
   },
   "file_extension": ".py",
   "mimetype": "text/x-python",
   "name": "python",
   "nbconvert_exporter": "python",
   "pygments_lexer": "ipython3",
   "version": "3.6.13"
  }
 },
 "nbformat": 4,
 "nbformat_minor": 5
}
